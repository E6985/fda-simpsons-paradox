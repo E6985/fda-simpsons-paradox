{
 "cells": [
  {
   "cell_type": "markdown",
   "metadata": {},
   "source": [
    "< [GMIT Data Analytics](https://web.archive.org/web/20201029063153/https://www.gmit.ie/computer-science-and-applied-physics/higher-diploma-science-computing-data-analytics-ict) | [Table of Contents](https://github.com/E6985) | [README](https://github.com/E6985/fda-simpsons-paradox/blob/main/README.md) >\n",
    "\n",
    "![GMIT](https://github.com/E6985/pda-numpy-random/blob/main/img/gmit.png?raw=true)\n",
    "\n",
    "## simpsons-paradox\n",
    "***"
   ]
  },
  {
   "cell_type": "code",
   "execution_count": 1,
   "metadata": {},
   "outputs": [],
   "source": [
    "# execute from file - .py\n",
    "%run ~/L8733/src/pro/par/pyt/magic/fGetModuleType.py"
   ]
  },
  {
   "cell_type": "markdown",
   "metadata": {},
   "source": [
    "###### Berkley Paper\n",
    "***"
   ]
  },
  {
   "cell_type": "markdown",
   "metadata": {},
   "source": [
    "&#x1F6A7; 00:00\n",
    "\n",
    "> ~~explain how simpsons paradox has arisen in the berkeley dataset - and use their own example that they have used for in the paper itself - so we are talking about the paper called sex bias in graduate admissions data from berkeley - the idea is that - and when you look at the in 1973 - the admissions to berkeley - versus the number of people who are denied admission were not admitted - when you break it down in terms of men - men and women - it looks like women have been discriminated against - because all things being equal - and if you figure out what the admission rate is - so you can get the admission rate here by considering the total number of people that you have - which they say is 12763 - and you can calculate the admission rate then by adding these two numbers here - the number of men who were admitted - which is 3738 - the number of women who are admitted - which is 1494~~ [\n",
    "[...] I. McLoughlin, \"Simpson's paradox explanation,\" GMIT, November 2018.\n",
    "]\n",
    "\n",
    "<img src=\"img/berkley.png\" />\n",
    "\n",
    "01:10 &#x1F6A7;"
   ]
  },
  {
   "cell_type": "markdown",
   "metadata": {},
   "source": [
    "###### Actual Data\n",
    "***"
   ]
  },
  {
   "cell_type": "markdown",
   "metadata": {},
   "source": [
    "&#x1F6A7; 01:10\n",
    "\n",
    "> ~~will figure out what the admission rate is - so lets say admission rate is equal to - so its 3738 plus 1494 - and thats going to be divided by the total number of people in the sample - which shall be the sum of these four numbers here - the total number of people involved - let me zoom in a little bit there for you - and but they say that - in any case - they have done it for us - its 12763 - so the admission rate then - and we printed it to the screen is about 0.4~~ [\n",
    "[...] I. McLoughlin, \"Simpson's paradox explanation,\" GMIT, November 2018.\n",
    "]\n",
    "\n",
    "01:50 &#x1F6A7;"
   ]
  },
  {
   "cell_type": "code",
   "execution_count": 2,
   "metadata": {},
   "outputs": [
    {
     "data": {
      "text/plain": [
       "0.4099349682676487"
      ]
     },
     "execution_count": 2,
     "metadata": {},
     "output_type": "execute_result"
    }
   ],
   "source": [
    "admission_rate=(3738+1494)/12763\n",
    "admission_rate"
   ]
  },
  {
   "cell_type": "markdown",
   "metadata": {},
   "source": [
    "&#x1F6A7; 01:50\n",
    "\n",
    "> ~~so if you take - and lets say the total number of men - both admitted and denied - so total man is equal to 3738 plus 4704 - - which is 8442 well - then you would expect the number of men that would be admitted would be the total man multiplied by the admission rate - the admission rate is - has nothing to do with gender - so i have just calculated the admission rate - irrespective of gender - so you would expect that about 3461 men would have been admitted - which they have already calculated for us here in the table - so thats how they arrived at that figure - they are the 3460.7 - thats the number of men that you would expect to miss i would miss given the total admission rates - but they actually admitted - and 38 and men - so theres a difference between that and the 3460.7 that they expected to miss - theres a difference of 277.3 people - who are men~~ [\n",
    "[...] I. McLoughlin, \"Simpson's paradox explanation,\" GMIT, November 2018.\n",
    "]\n",
    "\n",
    "03:20 &#x1F6A7;"
   ]
  },
  {
   "cell_type": "code",
   "execution_count": 3,
   "metadata": {},
   "outputs": [
    {
     "data": {
      "text/plain": [
       "8442"
      ]
     },
     "execution_count": 3,
     "metadata": {},
     "output_type": "execute_result"
    }
   ],
   "source": [
    "total_men=3738+4704\n",
    "total_men"
   ]
  },
  {
   "cell_type": "code",
   "execution_count": 4,
   "metadata": {},
   "outputs": [
    {
     "data": {
      "text/plain": [
       "3460.6710021154904"
      ]
     },
     "execution_count": 4,
     "metadata": {},
     "output_type": "execute_result"
    }
   ],
   "source": [
    "expected_men_admitted=total_men*admission_rate\n",
    "expected_men_admitted"
   ]
  },
  {
   "cell_type": "markdown",
   "metadata": {},
   "source": [
    "&#x1F6A7; 03:20\n",
    "\n",
    "> ~~likewise - when you when you multiply - so that the total number of women that applied were was 1494 - which are the number admitted - plus 2827 - which was the number of women who were not admitted - giving you a total of 4321 - but you you expect then expect women admitted - to be total women multiply by the admission rate - let me just show you what that number is - - and its 1771.3 - so the difference between that - and 1494 is also 277.3 - but its going in the other direction - compared to the men - in the men - there were 277 to many men - and in the women - there were 277 too few women - so so thats the issue here is that all things being equal - we expected there to not be such a significant difference in the number of men and women admitted~~ [\n",
    "[...] I. McLoughlin, \"Simpson's paradox explanation,\" GMIT, November 2018.\n",
    "]\n",
    "\n",
    "04:35 &#x1F6A7;"
   ]
  },
  {
   "cell_type": "code",
   "execution_count": 5,
   "metadata": {},
   "outputs": [
    {
     "data": {
      "text/plain": [
       "4321"
      ]
     },
     "execution_count": 5,
     "metadata": {},
     "output_type": "execute_result"
    }
   ],
   "source": [
    "total_women=1494+2827\n",
    "total_women"
   ]
  },
  {
   "cell_type": "code",
   "execution_count": 6,
   "metadata": {},
   "outputs": [
    {
     "data": {
      "text/plain": [
       "1771.32899788451"
      ]
     },
     "execution_count": 6,
     "metadata": {},
     "output_type": "execute_result"
    }
   ],
   "source": [
    "expected_women_admitted=total_women*admission_rate\n",
    "expected_women_admitted"
   ]
  },
  {
   "cell_type": "markdown",
   "metadata": {},
   "source": [
    "&#x1F6A7; 04:35\n",
    "\n",
    "> ~~paper - when you break it down by department - so theres another variable that they have captured - and for which - if i go back to this table for a second - this is like an aggregate across all of the departments - but there are about 100 departments~~ [\n",
    "[...] I. McLoughlin, \"Simpson's paradox explanation,\" GMIT, November 2018.\n",
    "] \n",
    "\n",
    "<img src=\"img/berkley.png\" />\n",
    "\n",
    "> ~~and they are making the case in the paper that actually if you break it down by department - no department discrimination against women or men and i think they say - and so they do not give you the data for all 100 departments because i guess its too cumbersome for the paper - and this is back in the days before the internet - really so - and they were not able to share the data set electronically - but they give an example of how this might arise that they have created two fictional departments - department of machismatics - which pretty sure it does not exist or did not exist in 1973 - anyway - and the department of social warfare - so i guess definitely two departments where they show that theres absolutely like that the expected number of men and women were admitted to both departments - but when you take the departments together - combined - you will see a bias towards men - so let me just show you here if they have done the exact same calculations - they did it for the department of machismatics - first of all - they say they admitted 200 men and denied admission to 200 men - and they admitted 100 women - and they denied admission to 100 women - and so they have done the exact same calculations as i did overall here - they have done it for each of the individual and departments that they have done it for the department of because mattox here - and it turns out that and so they had 400 men apply - and they had 200 women - they could not control that - thats just the number of people who - who - who applied - and so they had 600 people apply in total - and - and the admission rate was - well - they admitted 300 out of the 600 - so the admission rate was half - so what you expect is that half the men were admitted - and half the men were denied admission - and and half the women were admitted and half were denied admission - and thats exactly what you have - so actually - this department perfectly hits the nail on the head in terms of the expectation in the breakdown of men and women being admitted - exactly half the men were admitted and exactly half the women - so you can make the case that theres no gender bias there~~ [\n",
    "[...] I. McLoughlin, \"Simpson's paradox explanation,\" GMIT, November 2018.\n",
    "] \n",
    "\n",
    "<img src=\"img/machismatics.png\" /> \n",
    "\n",
    "> ~~ likewise - the department of social warfare - as they call it - and they add - lets say they admitted 50 men and denied entry 100 men - they admitted 150 women - and denied entry to 300 women - so they accepted - they admitted three times the number of women than they did on men - so 75% of the admissions to that department were women - and again - and the admission rates and was - so the admission rate in this case was - well - they admitted 200 people - and in total - it seems 600 people applied - so you had the four numbers together to get the number that applied - and so 200 out of 600 is third - so they are admitting one third of the applicants - and it so happens that 150 men applied and they admitted 50 men - so they are hitting the nail on the head there again - they admitted - one third of the men who applied and likewise the they admitted 150 out of the 450 women who applied so they admitted one third of the women - so again - they are perfectly in line with the expectations of if theres no gender bias - they have admitted a third of the men who applied and a third of the women who applied and so you can make the case that they have not been biassed~~ [\n",
    "[...] I. McLoughlin, \"Simpson's paradox explanation,\" GMIT, November 2018.\n",
    "]\n",
    "\n",
    "<img src=\"img/fake.png\" />\n",
    "\n",
    "08:40 &#x1F6A7;"
   ]
  },
  {
   "cell_type": "markdown",
   "metadata": {},
   "source": [
    "&#x1F6A7; 08:40\n",
    "\n",
    "> ~now - heres the key to simpsons paradox - in this case - forget about the two departments - aggregate them - so 200 men were admitted to the first department and 50 to the second department - so in total - they admitted 250 as they have written down here - 100 women were admitted to the first deparment on 150 to the second so again - 250 women were admitted - so theres 50/50 admissions here - 250 men - 250 women~~ [\n",
    "[...] I. McLoughlin, \"Simpson's paradox explanation,\" GMIT, November 2018.\n",
    "]\n",
    "\n",
    "> ~~the first department rejected 200 men - and the second department rejected 100 men - so in total - 300 men were rejected - and likewise - first department rejected hundred women - and the second department rejected 300 of them and so 400 women were rejected in total - now - thats workout - how many men and women we expected them to admit and how many we expect them to reject~~ [\n",
    "[...] I. McLoughlin, \"Simpson's paradox explanation,\" GMIT, November 2018.\n",
    "]\n",
    "\n",
    "> ~~so whats the admission rate in this case so lets go back through here - and recalculate the admission rates based on these numbers~~ [\n",
    "[...] I. McLoughlin, \"Simpson's paradox explanation,\" GMIT, November 2018.\n",
    "]\n",
    "\n",
    "<img src=\"img/fakeObserved.png\" />\n",
    "\n",
    "09:50 &#x1F6A7;"
   ]
  },
  {
   "cell_type": "markdown",
   "metadata": {},
   "source": [
    "###### Fake Observed Data\n",
    "***"
   ]
  },
  {
   "cell_type": "markdown",
   "metadata": {},
   "source": [
    "&#x1F6A7; 09:50\n",
    "\n",
    "> ~~so rather than delete what i have done before - just overwrite it - so let me go into my notebook here - just push a subheading here - say actual data - down here - do data in the example - so lets calculate the admission rate in there to overall for their two fictionalised departments here - so they admitted 250 men - thats 250 men - and they admitted 250 women - giving them a total admissions of 500 - thats calculated how many people they admitted outside that applied overall - so obviously the 250 men and the 250 women who were admitted applied - so we have 250 plus to 250 - or 300 men were rejected and 400 women were rejected - so 300 plus 400 - so their admission rate was 0.4166686 - etc - so about 40%~~ [\n",
    "[...] I. McLoughlin, \"Simpson's paradox explanation,\" GMIT, November 2018.\n",
    "]\n",
    "\n",
    "11:10 &#x1F6A7;"
   ]
  },
  {
   "cell_type": "code",
   "execution_count": 7,
   "metadata": {},
   "outputs": [
    {
     "data": {
      "text/plain": [
       "0.4166666666666667"
      ]
     },
     "execution_count": 7,
     "metadata": {},
     "output_type": "execute_result"
    }
   ],
   "source": [
    "admission_rate=(250+250)/(250+250+300+400)\n",
    "admission_rate"
   ]
  },
  {
   "cell_type": "markdown",
   "metadata": {},
   "source": [
    "&#x1F6A7; 11:10 \n",
    "\n",
    "> ~~so next we will calculate the total men who applied and to their fictionalised departments - so for the two departments for the first department - and there were in total - and - sorry - electric scrowing - here - and for the first department - in total - there were 400 men - and for the second department - in total - there were 150 men - so that gives us 550 men in total - which we can also get by adding the 250 here to the 300 - so do it that way - 250 plus 300 - so total men - there were 550 men in total in their fictionalised example d- so for the two departments - the total number of men who applied was 550 - and then we could do total women - just copy and paste this year - total women - is 250 again - plus 400 - so 250 women were admitted to both departments - or sorry to either department - i suppose better ways and - and 400 are rejected from the departments - so in total - we had 650 women~~ [\n",
    "[...] I. McLoughlin, \"Simpson's paradox explanation,\" GMIT, November 2018.\n",
    "]\n",
    "\n",
    "12:20 &#x1F6A7;"
   ]
  },
  {
   "cell_type": "code",
   "execution_count": 8,
   "metadata": {},
   "outputs": [
    {
     "data": {
      "text/plain": [
       "550"
      ]
     },
     "execution_count": 8,
     "metadata": {},
     "output_type": "execute_result"
    }
   ],
   "source": [
    "total_men=250+300\n",
    "total_men"
   ]
  },
  {
   "cell_type": "code",
   "execution_count": 9,
   "metadata": {},
   "outputs": [
    {
     "data": {
      "text/plain": [
       "650"
      ]
     },
     "execution_count": 9,
     "metadata": {},
     "output_type": "execute_result"
    }
   ],
   "source": [
    "total_women=250+400\n",
    "total_women"
   ]
  },
  {
   "cell_type": "markdown",
   "metadata": {},
   "source": [
    "&#x1F6A7; 12:20\n",
    "\n",
    "> ~~so how many do we expect how many men do we expect to be admitted - well - thats gonna be the total number of men - multiplied by the admission rate - let me just have that displayed to the screen - oops - we expected 229.16167 i suppose - and men to be admitted - now - we are saying that there were 250 men admitted - and so we are - we have admitted 20 more men than we expected - and now lets calculate the number of women that we expected - to be admitted - and that was 270 - so we expect 270 women to be admitted - we actually admitted 250 - so now we have a discrepancy - again - of about 20/21 - women~~ [\n",
    "[...] I. McLoughlin, \"Simpson's paradox explanation,\" GMIT, November 2018.\n",
    "]\n",
    "\n",
    "13:20 &#x1F6A7;"
   ]
  },
  {
   "cell_type": "code",
   "execution_count": 10,
   "metadata": {},
   "outputs": [
    {
     "data": {
      "text/plain": [
       "229.16666666666669"
      ]
     },
     "execution_count": 10,
     "metadata": {},
     "output_type": "execute_result"
    }
   ],
   "source": [
    "expect_men_admitted=total_men*admission_rate\n",
    "expect_men_admitted"
   ]
  },
  {
   "cell_type": "code",
   "execution_count": 11,
   "metadata": {},
   "outputs": [
    {
     "data": {
      "text/plain": [
       "270.83333333333337"
      ]
     },
     "execution_count": 11,
     "metadata": {},
     "output_type": "execute_result"
    }
   ],
   "source": [
    "expect_women_admitted=total_women*admission_rate\n",
    "expect_women_admitted"
   ]
  },
  {
   "cell_type": "markdown",
   "metadata": {},
   "source": [
    "&#x1F6A7; 13:20 \n",
    "\n",
    "> ~~so what this is telling you is that even though in each individual department - you can make the case that the admission rate was the same for men and women - well - you are not making the case - but it actually was right - in the first department - half the men were admitted - who applied - and in the first department - half the women were admitted to applied in the second department - one third of the men who applied are admitted - and likewise - one third of the women who applied word message - so within each department - everything was seemed seemed fairly well balanced - you know - it was the number of admissions was weighted by the number of applicants for each gender - however - overall - the the - when you combine the two departments - it looks like theres a bias towards admitting men - so 250 men were admitted - over 550 in total apply - and 250 - women were admitted - out of 650 applying - so more women applied - but the exact same number of men and women were admitted between the two departments~~ [\n",
    "[...] I. McLoughlin, \"Simpson's paradox explanation,\" GMIT, November 2018.\n",
    "]\n",
    "\n",
    "<img src=\"img/fake.png\" />\n",
    "\n",
    "14:30 &#x1F6A7;"
   ]
  },
  {
   "cell_type": "markdown",
   "metadata": {},
   "source": [
    "&#x1F6A7; 14:30\n",
    "\n",
    "> ~~so whats the explanation for this how does this phenomenon arise why does at the aggregate level - why does it look like theres gender bias well - its simply because more men applied to the department that has a higher admission rate than women - you see - the real thing here is that more proportionately more men are applying for the department thats easier to get into - which is the first department - the first department has an admission rate of 50% - whereas the second department has an admission rate of only 33% - one third - so its easier to get into the first department and more men applied to that department - and - you know - only 150 men applied to the second department - whereas 450 women applied in the first round - 400 men applied and only 100 women applied - so the men are applying for the easier to get into department and what the result more men get in - thats thats the overall explanation - now - there could be other biases - and like - this dataset does not tell you anything about why - and men and women were applying for the different departments - maybe theres some reason that and maybe theres some bias in - in the way - berkeley is - say - advertising - admission to each department in terms of gender - maybe they are using stereotype ads or something like that - and thats just in there - just giving and playing devils advocate and saying - well - look this data does not necessarily outright say that theres no bias going on here - all we are saying is that theres no evidence of bias - so thats simpsons paradox for this dataset - so simpsons paradox is telling us that an effect that we see - and as an aggregate level disappears - when we dig down to a more granular level - when we use the other variables that we have - such as the name of the department that was applied to the effect is disappearing - so if we were seeing a dataset where you take the full dataset - you see an effect - but if you break the dataset down into its different groups - whatever that might mean - in this case - it means the different departments will then the effect disappears - or indeed - and maybe reversed - so we have got to be very careful when we are analysing data - and people think these datasets are very black and white - and the statistics do not lie - well - statistics are just calculations that you are making - and - and its up to you as a human then to do what you please with those calculations - you know - you - you are using those calculations to try and make a case - and the calculations are providing evidence for the case that you are trying to make - hopefully - just evidence that - you know - statistics is not black and white - and in that sense - so thats just the example from the berkeley dataset from 1973 in this paper - sex bias and graduate admissions data from berkeley - and thats just an explanation of the effect as they have given us~~ [\n",
    "[...] I. McLoughlin, \"Simpson's paradox explanation,\" GMIT, November 2018.\n",
    "]\n",
    "\n",
    "18:05 &#x1F6A7;"
   ]
  },
  {
   "cell_type": "markdown",
   "metadata": {},
   "source": [
    "###### Regression\n",
    "***"
   ]
  },
  {
   "cell_type": "markdown",
   "metadata": {},
   "source": [
    "&#x1F6A7; 00:00\n",
    "\n",
    "> ~~another example of simpsons paradox - and now i should say that this is not as clear an example of simpsons paradox for a number of reasons - one we saw with the berkeley data - but i just want to show you an example of a place where - like - we are going to - i am going to fake up some data - we are going to simulate some data - i am going to create some data and have to say - i created the data in such a way that i would see the effects that i want to look at - but i think its interesting nonetheless - and just as an example - of how trends can be reversed - and in the berkeley example - we had it where what looked like gender bias at the aggregate level did not seem to exist at a more granular level - within each department - but its quite possible that in effect - like in that case - it was like all the effect disappears~~ [\n",
    "[...] I. McLoughlin, \"Simpson's paradox meaning,\" GMIT, November 2018.\n",
    "]\n",
    "\n",
    "> ~~but i just want to show you an example of an effect - seemingly reversing and because of some paradox - so i am going to import my usual data analysis libraries here - i have got pandas - i have got seaborn - and i have got numpy - let me zoom in a little bit on this - i am going to create a dataframe called men - i am going to compare men and women - and in one sense - so i am going to create a dataframe - and i am just going to measure well - i am going to pretend i have measured lots of different mens heights and width - so i am just simulating this - so increasing the data - i am going to do 100% of measures the height and weight of 100 men - and their height is going to be measured in metres - and i am going to say that the average height is maybe 1.8 metres - which may or may not be - and the standard deviation within the population is five centimetres - lets say - which seems kind of reasonable enough - maybe the average is a little less than 1.8 - but depending on what country you go to - or what county or whatever - however - who - who are the hundred people you have measured - maybe 1.8 is reasonable average - and the spread is something like - you know - 15 centimetres here or there is about - you know - from 1.8 metres is about right - and i am going to say their waist and kilogrammes is - lets say - about 85 - and most people are going to be in the sort of 82 to 88 kilogram range - so - i have created i have faked up basically 100 peoples height and weight - who i am saying are mens~~ [\n",
    "[...] I. McLoughlin, \"Simpson's paradox meaning,\" GMIT, November 2018.\n",
    "]\n",
    "\n",
    "02:40 &#x1F6A7;"
   ]
  },
  {
   "cell_type": "code",
   "execution_count": 12,
   "metadata": {},
   "outputs": [],
   "source": [
    "import pandas as pd\n",
    "import seaborn as sns\n",
    "import numpy as np"
   ]
  },
  {
   "cell_type": "code",
   "execution_count": 13,
   "metadata": {},
   "outputs": [],
   "source": [
    "# b_T_hird_P_arty-imports\n",
    "from matplotlib.style.core import use as u"
   ]
  },
  {
   "cell_type": "code",
   "execution_count": 14,
   "metadata": {},
   "outputs": [
    {
     "name": "stdout",
     "output_type": "stream",
     "text": [
      "<module 'matplotlib.style.core' from 'C:\\\\Users\\\\E6985\\\\anaconda3\\\\lib\\\\site-packages\\\\matplotlib\\\\style\\\\core.py'>\n",
      "<class 'function'>\n"
     ]
    }
   ],
   "source": [
    "# package matplotlib - subpackage style - module core - function use alias u - call\n",
    "u(\"default\")\n",
    "# function fGetModuleType - call\n",
    "fGetModuleType(u)"
   ]
  },
  {
   "cell_type": "code",
   "execution_count": 15,
   "metadata": {},
   "outputs": [],
   "source": [
    "men=pd.DataFrame({\"height\":np.random.normal(1.8,0.05,100),\"weight\":np.random.normal(85,1,100)})"
   ]
  },
  {
   "cell_type": "markdown",
   "metadata": {},
   "source": [
    "&#x1F6A7; 02:40\n",
    "\n",
    "> ~~and then i am going to calculate their bmi - which when you have somebodys weight in kilogrammes - and their height in metres - you can calculate the bmi as their waist divided by their height squared - so you can see here i have got the hunters heights and weights of 100 different men - and their bmi is over here - and most peoples bmi is coming out in the 25 range - which i think actually is quite high~~ [\n",
    "[...] I. McLoughlin, \"Simpson's paradox meaning,\" GMIT, November 2018.\n",
    "]\n",
    "\n",
    "03:00 &#x1F6A7;"
   ]
  },
  {
   "cell_type": "code",
   "execution_count": 16,
   "metadata": {},
   "outputs": [],
   "source": [
    "men[\"bmi\"]=men[\"weight\"]/men[\"height\"]**2"
   ]
  },
  {
   "cell_type": "code",
   "execution_count": 17,
   "metadata": {},
   "outputs": [
    {
     "data": {
      "text/html": [
       "<div>\n",
       "<style scoped>\n",
       "    .dataframe tbody tr th:only-of-type {\n",
       "        vertical-align: middle;\n",
       "    }\n",
       "\n",
       "    .dataframe tbody tr th {\n",
       "        vertical-align: top;\n",
       "    }\n",
       "\n",
       "    .dataframe thead th {\n",
       "        text-align: right;\n",
       "    }\n",
       "</style>\n",
       "<table border=\"1\" class=\"dataframe\">\n",
       "  <thead>\n",
       "    <tr style=\"text-align: right;\">\n",
       "      <th></th>\n",
       "      <th>height</th>\n",
       "      <th>weight</th>\n",
       "      <th>bmi</th>\n",
       "    </tr>\n",
       "  </thead>\n",
       "  <tbody>\n",
       "    <tr>\n",
       "      <th>0</th>\n",
       "      <td>1.694669</td>\n",
       "      <td>86.142961</td>\n",
       "      <td>29.995084</td>\n",
       "    </tr>\n",
       "    <tr>\n",
       "      <th>1</th>\n",
       "      <td>1.794216</td>\n",
       "      <td>84.739535</td>\n",
       "      <td>26.323065</td>\n",
       "    </tr>\n",
       "    <tr>\n",
       "      <th>2</th>\n",
       "      <td>1.858944</td>\n",
       "      <td>85.420628</td>\n",
       "      <td>24.718955</td>\n",
       "    </tr>\n",
       "    <tr>\n",
       "      <th>3</th>\n",
       "      <td>1.795208</td>\n",
       "      <td>85.493319</td>\n",
       "      <td>26.527895</td>\n",
       "    </tr>\n",
       "    <tr>\n",
       "      <th>4</th>\n",
       "      <td>1.764090</td>\n",
       "      <td>86.738679</td>\n",
       "      <td>27.872201</td>\n",
       "    </tr>\n",
       "    <tr>\n",
       "      <th>...</th>\n",
       "      <td>...</td>\n",
       "      <td>...</td>\n",
       "      <td>...</td>\n",
       "    </tr>\n",
       "    <tr>\n",
       "      <th>95</th>\n",
       "      <td>1.886683</td>\n",
       "      <td>84.232736</td>\n",
       "      <td>23.663730</td>\n",
       "    </tr>\n",
       "    <tr>\n",
       "      <th>96</th>\n",
       "      <td>1.779867</td>\n",
       "      <td>85.199420</td>\n",
       "      <td>26.894393</td>\n",
       "    </tr>\n",
       "    <tr>\n",
       "      <th>97</th>\n",
       "      <td>1.817195</td>\n",
       "      <td>84.751200</td>\n",
       "      <td>25.665092</td>\n",
       "    </tr>\n",
       "    <tr>\n",
       "      <th>98</th>\n",
       "      <td>1.846814</td>\n",
       "      <td>84.514460</td>\n",
       "      <td>24.779042</td>\n",
       "    </tr>\n",
       "    <tr>\n",
       "      <th>99</th>\n",
       "      <td>1.733759</td>\n",
       "      <td>85.544071</td>\n",
       "      <td>28.458540</td>\n",
       "    </tr>\n",
       "  </tbody>\n",
       "</table>\n",
       "<p>100 rows × 3 columns</p>\n",
       "</div>"
      ],
      "text/plain": [
       "      height     weight        bmi\n",
       "0   1.694669  86.142961  29.995084\n",
       "1   1.794216  84.739535  26.323065\n",
       "2   1.858944  85.420628  24.718955\n",
       "3   1.795208  85.493319  26.527895\n",
       "4   1.764090  86.738679  27.872201\n",
       "..       ...        ...        ...\n",
       "95  1.886683  84.232736  23.663730\n",
       "96  1.779867  85.199420  26.894393\n",
       "97  1.817195  84.751200  25.665092\n",
       "98  1.846814  84.514460  24.779042\n",
       "99  1.733759  85.544071  28.458540\n",
       "\n",
       "[100 rows x 3 columns]"
      ]
     },
     "execution_count": 17,
     "metadata": {},
     "output_type": "execute_result"
    }
   ],
   "source": [
    "men"
   ]
  },
  {
   "cell_type": "markdown",
   "metadata": {},
   "source": [
    "&#x1F6A7; 03:00 \n",
    "\n",
    "> ~~so if i plot that data - then i am going to just do a - what we call an lmplot in seaborn - what it will do is it will do a scatterplot - and i am going to do height versus bmi - and - and remember - this just simulated data is not real world data - i do not think real world data would actually look like this - but i am trying to show you an effect - so peoples height against their bmi - and the ``lmplot`` - we are putting in a sort of a sort of like a best fit line over the plot - here in blue - so its trying to show the relationship between height and bmi - so this is a suggestion is that as peoples height goes up - their bmi goes down - now in the real world - thats not quite accurate - but because i have not set peoples weight here to be a function of their height - and seeing the sort of effect of my dataset - in any case - lets just imagine that it is true that as you get taller - your bmi goes down~~ [\n",
    "[...] I. McLoughlin, \"Simpson's paradox meaning,\" GMIT, November 2018.\n",
    "]\n",
    "\n",
    "04:00 &#x1F6A7; "
   ]
  },
  {
   "cell_type": "code",
   "execution_count": 18,
   "metadata": {},
   "outputs": [
    {
     "data": {
      "image/png": "[encoded data removed]",
      "text/plain": [
       "<Figure size 500x500 with 1 Axes>"
      ]
     },
     "metadata": {},
     "output_type": "display_data"
    }
   ],
   "source": [
    "sns.lmplot(x=\"height\",y=\"bmi\",data=men);"
   ]
  },
  {
   "cell_type": "markdown",
   "metadata": {},
   "source": [
    "&#x1F6A7; 04:00\n",
    "\n",
    "> ~~i am going to do the same for women - but i am going to slightly change the parameters - i am going to say that women on average are more like 1.6 metres in height - and on average are 60 kilos - so again - its just totally faked up data - so i have done that for 100 women - and i have calculated their bmi as well - you can see they are coming out slightly lower~~ [\n",
    "[...] I. McLoughlin, \"Simpson's paradox meaning,\" GMIT, November 2018.\n",
    "]\n",
    "\n",
    "04:20 &#x1F6A7;"
   ]
  },
  {
   "cell_type": "code",
   "execution_count": 19,
   "metadata": {},
   "outputs": [],
   "source": [
    "women=pd.DataFrame({\"height\":np.random.normal(1.6,0.05,100),\"weight\":np.random.normal(60,1,100)})"
   ]
  },
  {
   "cell_type": "code",
   "execution_count": 20,
   "metadata": {},
   "outputs": [],
   "source": [
    "women[\"bmi\"]=women[\"weight\"]/women[\"height\"]**2"
   ]
  },
  {
   "cell_type": "code",
   "execution_count": 21,
   "metadata": {},
   "outputs": [
    {
     "data": {
      "text/html": [
       "<div>\n",
       "<style scoped>\n",
       "    .dataframe tbody tr th:only-of-type {\n",
       "        vertical-align: middle;\n",
       "    }\n",
       "\n",
       "    .dataframe tbody tr th {\n",
       "        vertical-align: top;\n",
       "    }\n",
       "\n",
       "    .dataframe thead th {\n",
       "        text-align: right;\n",
       "    }\n",
       "</style>\n",
       "<table border=\"1\" class=\"dataframe\">\n",
       "  <thead>\n",
       "    <tr style=\"text-align: right;\">\n",
       "      <th></th>\n",
       "      <th>height</th>\n",
       "      <th>weight</th>\n",
       "      <th>bmi</th>\n",
       "    </tr>\n",
       "  </thead>\n",
       "  <tbody>\n",
       "    <tr>\n",
       "      <th>0</th>\n",
       "      <td>1.574701</td>\n",
       "      <td>59.523709</td>\n",
       "      <td>24.004550</td>\n",
       "    </tr>\n",
       "    <tr>\n",
       "      <th>1</th>\n",
       "      <td>1.625386</td>\n",
       "      <td>60.922324</td>\n",
       "      <td>23.060233</td>\n",
       "    </tr>\n",
       "    <tr>\n",
       "      <th>2</th>\n",
       "      <td>1.557196</td>\n",
       "      <td>59.814807</td>\n",
       "      <td>24.667320</td>\n",
       "    </tr>\n",
       "    <tr>\n",
       "      <th>3</th>\n",
       "      <td>1.635028</td>\n",
       "      <td>59.956571</td>\n",
       "      <td>22.427788</td>\n",
       "    </tr>\n",
       "    <tr>\n",
       "      <th>4</th>\n",
       "      <td>1.589363</td>\n",
       "      <td>60.761728</td>\n",
       "      <td>24.053827</td>\n",
       "    </tr>\n",
       "    <tr>\n",
       "      <th>...</th>\n",
       "      <td>...</td>\n",
       "      <td>...</td>\n",
       "      <td>...</td>\n",
       "    </tr>\n",
       "    <tr>\n",
       "      <th>95</th>\n",
       "      <td>1.618303</td>\n",
       "      <td>60.831228</td>\n",
       "      <td>23.227741</td>\n",
       "    </tr>\n",
       "    <tr>\n",
       "      <th>96</th>\n",
       "      <td>1.603100</td>\n",
       "      <td>61.633836</td>\n",
       "      <td>23.982696</td>\n",
       "    </tr>\n",
       "    <tr>\n",
       "      <th>97</th>\n",
       "      <td>1.550032</td>\n",
       "      <td>62.607062</td>\n",
       "      <td>26.058071</td>\n",
       "    </tr>\n",
       "    <tr>\n",
       "      <th>98</th>\n",
       "      <td>1.575502</td>\n",
       "      <td>59.355095</td>\n",
       "      <td>23.912228</td>\n",
       "    </tr>\n",
       "    <tr>\n",
       "      <th>99</th>\n",
       "      <td>1.562820</td>\n",
       "      <td>59.102628</td>\n",
       "      <td>24.198520</td>\n",
       "    </tr>\n",
       "  </tbody>\n",
       "</table>\n",
       "<p>100 rows × 3 columns</p>\n",
       "</div>"
      ],
      "text/plain": [
       "      height     weight        bmi\n",
       "0   1.574701  59.523709  24.004550\n",
       "1   1.625386  60.922324  23.060233\n",
       "2   1.557196  59.814807  24.667320\n",
       "3   1.635028  59.956571  22.427788\n",
       "4   1.589363  60.761728  24.053827\n",
       "..       ...        ...        ...\n",
       "95  1.618303  60.831228  23.227741\n",
       "96  1.603100  61.633836  23.982696\n",
       "97  1.550032  62.607062  26.058071\n",
       "98  1.575502  59.355095  23.912228\n",
       "99  1.562820  59.102628  24.198520\n",
       "\n",
       "[100 rows x 3 columns]"
      ]
     },
     "execution_count": 21,
     "metadata": {},
     "output_type": "execute_result"
    }
   ],
   "source": [
    "women"
   ]
  },
  {
   "cell_type": "markdown",
   "metadata": {},
   "source": [
    "&#x1F6A7; 04:20\n",
    "\n",
    "> ~~when i plot and womens height versus bmi in my fake doc dataset - you can see that again - we have this downward trajectory as people get taller - their bmi goes down - now - so the idea here in both of these plots - right - is that for both men and for women - the taller they are - the lower their bmi - and so thats for both men and women individually~~ [\n",
    "[...] I. McLoughlin, \"Simpson's paradox meaning,\" GMIT, November 2018.\n",
    "]\n",
    "\n",
    "04:50 &#x1F6A7;"
   ]
  },
  {
   "cell_type": "code",
   "execution_count": 22,
   "metadata": {},
   "outputs": [
    {
     "data": {
      "image/png": "[encoded data removed]",
      "text/plain": [
       "<Figure size 500x500 with 1 Axes>"
      ]
     },
     "metadata": {},
     "output_type": "display_data"
    }
   ],
   "source": [
    "sns.lmplot(x=\"height\",y=\"bmi\",data=women);"
   ]
  },
  {
   "cell_type": "markdown",
   "metadata": {},
   "source": [
    "&#x1F6A7; 04:50\n",
    "\n",
    "> ~~lets combine those two datasets - so i will create a new variable in both datasets called gender so that when i combine the datasets i know who are the males and the females - it does not really matter - but i suppose its good practice - and then i create a new dataframe called people - which is the concatenation of the men and the women - so you can see here i have printed out people to the screen - and i have 200 rows and - and four columns - now - do not be confused - if you can help us by the fact that my index goes from zero all the way up to 100 and then starts at zero again - forget about the index for the time being - so you can see here i have got peoples height - peoples weight - their bmi under gender - i have 200 rows of that~~ [\n",
    "[...] I. McLoughlin, \"Simpson's paradox meaning,\" GMIT, November 2018.\n",
    "]\n",
    "\n",
    "05:40 &#x1F6A7;"
   ]
  },
  {
   "cell_type": "code",
   "execution_count": 23,
   "metadata": {},
   "outputs": [],
   "source": [
    "men[\"gender\"]=\"male\"\n",
    "women[\"gender\"]=\"female\"\n",
    "people=pd.concat([men,women])"
   ]
  },
  {
   "cell_type": "code",
   "execution_count": 24,
   "metadata": {},
   "outputs": [
    {
     "data": {
      "text/html": [
       "<div>\n",
       "<style scoped>\n",
       "    .dataframe tbody tr th:only-of-type {\n",
       "        vertical-align: middle;\n",
       "    }\n",
       "\n",
       "    .dataframe tbody tr th {\n",
       "        vertical-align: top;\n",
       "    }\n",
       "\n",
       "    .dataframe thead th {\n",
       "        text-align: right;\n",
       "    }\n",
       "</style>\n",
       "<table border=\"1\" class=\"dataframe\">\n",
       "  <thead>\n",
       "    <tr style=\"text-align: right;\">\n",
       "      <th></th>\n",
       "      <th>height</th>\n",
       "      <th>weight</th>\n",
       "      <th>bmi</th>\n",
       "      <th>gender</th>\n",
       "    </tr>\n",
       "  </thead>\n",
       "  <tbody>\n",
       "    <tr>\n",
       "      <th>0</th>\n",
       "      <td>1.694669</td>\n",
       "      <td>86.142961</td>\n",
       "      <td>29.995084</td>\n",
       "      <td>male</td>\n",
       "    </tr>\n",
       "    <tr>\n",
       "      <th>1</th>\n",
       "      <td>1.794216</td>\n",
       "      <td>84.739535</td>\n",
       "      <td>26.323065</td>\n",
       "      <td>male</td>\n",
       "    </tr>\n",
       "    <tr>\n",
       "      <th>2</th>\n",
       "      <td>1.858944</td>\n",
       "      <td>85.420628</td>\n",
       "      <td>24.718955</td>\n",
       "      <td>male</td>\n",
       "    </tr>\n",
       "    <tr>\n",
       "      <th>3</th>\n",
       "      <td>1.795208</td>\n",
       "      <td>85.493319</td>\n",
       "      <td>26.527895</td>\n",
       "      <td>male</td>\n",
       "    </tr>\n",
       "    <tr>\n",
       "      <th>4</th>\n",
       "      <td>1.764090</td>\n",
       "      <td>86.738679</td>\n",
       "      <td>27.872201</td>\n",
       "      <td>male</td>\n",
       "    </tr>\n",
       "    <tr>\n",
       "      <th>...</th>\n",
       "      <td>...</td>\n",
       "      <td>...</td>\n",
       "      <td>...</td>\n",
       "      <td>...</td>\n",
       "    </tr>\n",
       "    <tr>\n",
       "      <th>95</th>\n",
       "      <td>1.618303</td>\n",
       "      <td>60.831228</td>\n",
       "      <td>23.227741</td>\n",
       "      <td>female</td>\n",
       "    </tr>\n",
       "    <tr>\n",
       "      <th>96</th>\n",
       "      <td>1.603100</td>\n",
       "      <td>61.633836</td>\n",
       "      <td>23.982696</td>\n",
       "      <td>female</td>\n",
       "    </tr>\n",
       "    <tr>\n",
       "      <th>97</th>\n",
       "      <td>1.550032</td>\n",
       "      <td>62.607062</td>\n",
       "      <td>26.058071</td>\n",
       "      <td>female</td>\n",
       "    </tr>\n",
       "    <tr>\n",
       "      <th>98</th>\n",
       "      <td>1.575502</td>\n",
       "      <td>59.355095</td>\n",
       "      <td>23.912228</td>\n",
       "      <td>female</td>\n",
       "    </tr>\n",
       "    <tr>\n",
       "      <th>99</th>\n",
       "      <td>1.562820</td>\n",
       "      <td>59.102628</td>\n",
       "      <td>24.198520</td>\n",
       "      <td>female</td>\n",
       "    </tr>\n",
       "  </tbody>\n",
       "</table>\n",
       "<p>200 rows × 4 columns</p>\n",
       "</div>"
      ],
      "text/plain": [
       "      height     weight        bmi  gender\n",
       "0   1.694669  86.142961  29.995084    male\n",
       "1   1.794216  84.739535  26.323065    male\n",
       "2   1.858944  85.420628  24.718955    male\n",
       "3   1.795208  85.493319  26.527895    male\n",
       "4   1.764090  86.738679  27.872201    male\n",
       "..       ...        ...        ...     ...\n",
       "95  1.618303  60.831228  23.227741  female\n",
       "96  1.603100  61.633836  23.982696  female\n",
       "97  1.550032  62.607062  26.058071  female\n",
       "98  1.575502  59.355095  23.912228  female\n",
       "99  1.562820  59.102628  24.198520  female\n",
       "\n",
       "[200 rows x 4 columns]"
      ]
     },
     "execution_count": 24,
     "metadata": {},
     "output_type": "execute_result"
    }
   ],
   "source": [
    "people"
   ]
  },
  {
   "cell_type": "markdown",
   "metadata": {},
   "source": [
    "&#x1F6A7; 05:40\n",
    "\n",
    "> ~~now - lets ask seaborn to generate a regression plot again - so over here on the left - you can see the women - and over here on the right - upper right of the graph - you can see the men and you can see theres still the downward trajectory for both of those - but heres a cautionary tale for you - if you ask - seaborn now - will you generate a regression line - if you show me the trend in peoples height versus their bmi - all of a sudden the line points up the way - its no longer sloping down the way from the top left to the bottom right - now its sloping - more like from the bottom left to the top - right - it seems that as you get taller - your bmi should be going up - so thats when you combine the two datasets now - and - you know - in one sense here - this is a terrible regression line - because when you look at the plot here - you can clearly see this regression line does not represent this dataset at all - the dataset does seem to be chopped into two separate categories here at the men versus the women - but its just interesting to see - its just a contrived example - but its interesting to see that when you combine two different datasets - or two datasets containing the same data - but theres an underlying variable that makes a difference - which in this case - is gender again - and you can actually reverse a trend using the same data points - now the dataset seems to be telling you that theres an upward relationship - a positive relationship - a positive correlation between height and bmi - whereas for both genders individually - that relationship is reversed - theres a negative correlation between bmi and height - so its just another example of where we need to be careful - and there are many problems with this - obviously - the situation here - you should not be fitting a regression line to this dataset and thats evident here in this plot - but sometimes when we are analysing datasets - its not so evident that this has happened to us - that we fallen victim to simpsons paradox - in this contrived example - i have made it obvious that there are plenty of real world datasets - like the berkeley dataset where the simpsons paradox applies - and its not so obvious - its not easy to plot the berkeley dataset in any meaningful way - really - and you just have to go down and dig down into each individual department and have a look at each of them - and - but in this example - here - its not that the effect has disappeared - its that its actually been reversed - you would make the opposite conclusion - that height and bmi are positively correlated - if you were looking at the aggregate dataset in this case - its a really interesting paradox - its a cautionary tale for anybody doing data analysis or statistics - we have got to be very careful - and and its insightful - i think simpsons paradox in terms of explaining that data analysis is about a story - you know - you are making a case - you are making a story about the data - and you have to be very - very careful in the story that you are making - and you have to remember that your dataset is just some evidence for your story - and its not proof that your story is true - if your story is that theres a positive correlation between height and bmi - well then this data says you have got to be very careful with this because you could be making - you could be suggesting that the dataset provides evidence for your story of the part positive correlation between height and bmi - whereas if somebody actually went and looked behind the scenes here and broke it down by gender - they would see that the opposite actually seems to be true - that height and bmi are negatively correlated in this dataset in some meaningful way~~ [\n",
    "[...] I. McLoughlin, \"Simpson's paradox meaning,\" GMIT, November 2018.\n",
    "]\n",
    "\n",
    "09:50 &#x1F6A7;"
   ]
  },
  {
   "cell_type": "code",
   "execution_count": 25,
   "metadata": {},
   "outputs": [
    {
     "data": {
      "image/png": "[encoded data removed]",
      "text/plain": [
       "<Figure size 500x500 with 1 Axes>"
      ]
     },
     "metadata": {},
     "output_type": "display_data"
    }
   ],
   "source": [
    "sns.lmplot(x=\"height\",y=\"bmi\",data=people);"
   ]
  },
  {
   "cell_type": "markdown",
   "metadata": {},
   "source": [
    "***\n",
    "# END"
   ]
  }
 ],
 "metadata": {
  "kernelspec": {
   "display_name": "Python 3",
   "language": "python",
   "name": "python3"
  },
  "language_info": {
   "codemirror_mode": {
    "name": "ipython",
    "version": 3
   },
   "file_extension": ".py",
   "mimetype": "text/x-python",
   "name": "python",
   "nbconvert_exporter": "python",
   "pygments_lexer": "ipython3",
   "version": "3.8.3"
  }
 },
 "nbformat": 4,
 "nbformat_minor": 2
}
