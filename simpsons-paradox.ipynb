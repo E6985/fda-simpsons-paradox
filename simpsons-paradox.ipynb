{
 "cells": [
  {
   "cell_type": "markdown",
   "metadata": {},
   "source": [
    "< [GMIT Data Analytics](https://web.archive.org/web/20201029063153/https://www.gmit.ie/computer-science-and-applied-physics/higher-diploma-science-computing-data-analytics-ict) | [Table of Contents](https://github.com/E6985) | [README](https://github.com/E6985/fda-simpsons-paradox/blob/main/README.md) >\n",
    "\n",
    "![GMIT](https://github.com/E6985/pda-numpy-random/blob/main/img/gmit.png?raw=true)\n",
    "\n",
    "## simpsons-paradox\n",
    "***"
   ]
  },
  {
   "cell_type": "code",
   "execution_count": 1,
   "metadata": {},
   "outputs": [],
   "source": [
    "# execute from file - .py\n",
    "%run ~/L8733/src/pro/par/pyt/magic/fGetModuleType.py"
   ]
  },
  {
   "cell_type": "markdown",
   "metadata": {},
   "source": [
    "###### Berkley Paper\n",
    "***"
   ]
  },
  {
   "cell_type": "markdown",
   "metadata": {},
   "source": [
    "&#x1F6A7; 00:00\n",
    "\n",
    "> ~~explain how simpsons paradox has arisen in the berkeley dataset - and use their own example that they have used for in the paper itself - so we are talking about the paper called sex bias in graduate admissions data from berkeley - the idea is that - and when you look at the in 1973 - the admissions to berkeley - versus the number of people who are denied admission were not admitted - when you break it down in terms of men - men and women - it looks like women have been discriminated against - because all things being equal - and if you figure out what the admission rate is - so you can get the admission rate here by considering the total number of people that you have - which they say is 12763 - and you can calculate the admission rate then by adding these two numbers here - the number of men who were admitted - which is 3738 - the number of women who are admitted - which is 1494~~ [\n",
    "[...] I. McLoughlin, \"Simpson's paradox explanation,\" GMIT, November 2018.\n",
    "]\n",
    "\n",
    "<img src=\"img/berkley.png\" />\n",
    "\n",
    "01:10 &#x1F6A7;"
   ]
  },
  {
   "cell_type": "markdown",
   "metadata": {},
   "source": [
    "###### Actual Data\n",
    "***"
   ]
  },
  {
   "cell_type": "markdown",
   "metadata": {},
   "source": [
    "&#x1F6A7; 01:10\n",
    "\n",
    "> ~~will figure out what the admission rate is - so lets say admission rate is equal to - so its 3738 plus 1494 - and thats going to be divided by the total number of people in the sample - which shall be the sum of these four numbers here - the total number of people involved - let me zoom in a little bit there for you - and but they say that - in any case - they have done it for us - its 12763 - so the admission rate then - and we printed it to the screen is about 0.4~~ [\n",
    "[...] I. McLoughlin, \"Simpson's paradox explanation,\" GMIT, November 2018.\n",
    "]\n",
    "\n",
    "01:50 &#x1F6A7;"
   ]
  },
  {
   "cell_type": "code",
   "execution_count": 2,
   "metadata": {},
   "outputs": [
    {
     "data": {
      "text/plain": [
       "0.4099349682676487"
      ]
     },
     "execution_count": 2,
     "metadata": {},
     "output_type": "execute_result"
    }
   ],
   "source": [
    "admission_rate=(3738+1494)/12763\n",
    "admission_rate"
   ]
  },
  {
   "cell_type": "markdown",
   "metadata": {},
   "source": [
    "&#x1F6A7; 01:50\n",
    "\n",
    "> ~~so if you take - and lets say the total number of men - both admitted and denied - so total man is equal to 3738 plus 4704 - - which is 8442 well - then you would expect the number of men that would be admitted would be the total man multiplied by the admission rate - the admission rate is - has nothing to do with gender - so i have just calculated the admission rate - irrespective of gender - so you would expect that about 3461 men would have been admitted - which they have already calculated for us here in the table - so thats how they arrived at that figure - they are the 3460.7 - thats the number of men that you would expect to miss i would miss given the total admission rates - but they actually admitted - and 38 and men - so theres a difference between that and the 3460.7 that they expected to miss - theres a difference of 277.3 people - who are men~~ [\n",
    "[...] I. McLoughlin, \"Simpson's paradox explanation,\" GMIT, November 2018.\n",
    "]\n",
    "\n",
    "03:20 &#x1F6A7;"
   ]
  },
  {
   "cell_type": "code",
   "execution_count": 3,
   "metadata": {},
   "outputs": [
    {
     "data": {
      "text/plain": [
       "8442"
      ]
     },
     "execution_count": 3,
     "metadata": {},
     "output_type": "execute_result"
    }
   ],
   "source": [
    "total_men=3738+4704\n",
    "total_men"
   ]
  },
  {
   "cell_type": "code",
   "execution_count": 4,
   "metadata": {},
   "outputs": [
    {
     "data": {
      "text/plain": [
       "3460.6710021154904"
      ]
     },
     "execution_count": 4,
     "metadata": {},
     "output_type": "execute_result"
    }
   ],
   "source": [
    "expected_men_admitted=total_men*admission_rate\n",
    "expected_men_admitted"
   ]
  },
  {
   "cell_type": "markdown",
   "metadata": {},
   "source": [
    "&#x1F6A7; 03:20\n",
    "\n",
    "> ~~likewise - when you when you multiply - so that the total number of women that applied were was 1494 - which are the number admitted - plus 2827 - which was the number of women who were not admitted - giving you a total of 4321 - but you you expect then expect women admitted - to be total women multiply by the admission rate - let me just show you what that number is - - and its 1771.3 - so the difference between that - and 1494 is also 277.3 - but its going in the other direction - compared to the men - in the men - there were 277 to many men - and in the women - there were 277 too few women - so so thats the issue here is that all things being equal - we expected there to not be such a significant difference in the number of men and women admitted~~ [\n",
    "[...] I. McLoughlin, \"Simpson's paradox explanation,\" GMIT, November 2018.\n",
    "]\n",
    "\n",
    "04:35 &#x1F6A7;"
   ]
  },
  {
   "cell_type": "code",
   "execution_count": 5,
   "metadata": {},
   "outputs": [
    {
     "data": {
      "text/plain": [
       "4321"
      ]
     },
     "execution_count": 5,
     "metadata": {},
     "output_type": "execute_result"
    }
   ],
   "source": [
    "total_women=1494+2827\n",
    "total_women"
   ]
  },
  {
   "cell_type": "code",
   "execution_count": 6,
   "metadata": {},
   "outputs": [
    {
     "data": {
      "text/plain": [
       "1771.32899788451"
      ]
     },
     "execution_count": 6,
     "metadata": {},
     "output_type": "execute_result"
    }
   ],
   "source": [
    "expected_women_admitted=total_women*admission_rate\n",
    "expected_women_admitted"
   ]
  },
  {
   "cell_type": "markdown",
   "metadata": {},
   "source": [
    "&#x1F6A7; 04:35\n",
    "\n",
    "> ~~paper - when you break it down by department - so theres another variable that they have captured - and for which - if i go back to this table for a second - this is like an aggregate across all of the departments - but there are about 100 departments~~ [\n",
    "[...] I. McLoughlin, \"Simpson's paradox explanation,\" GMIT, November 2018.\n",
    "] \n",
    "\n",
    "<img src=\"img/berkley.png\" />\n",
    "\n",
    "> ~~and they are making the case in the paper that actually if you break it down by department - no department discrimination against women or men and i think they say - and so they do not give you the data for all 100 departments because i guess its too cumbersome for the paper - and this is back in the days before the internet - really so - and they were not able to share the data set electronically - but they give an example of how this might arise that they have created two fictional departments - department of machismatics - which pretty sure it does not exist or did not exist in 1973 - anyway - and the department of social warfare - so i guess definitely two departments where they show that theres absolutely like that the expected number of men and women were admitted to both departments - but when you take the departments together - combined - you will see a bias towards men - so let me just show you here if they have done the exact same calculations - they did it for the department of machismatics - first of all - they say they admitted 200 men and denied admission to 200 men - and they admitted 100 women - and they denied admission to 100 women - and so they have done the exact same calculations as i did overall here - they have done it for each of the individual and departments that they have done it for the department of because mattox here - and it turns out that and so they had 400 men apply - and they had 200 women - they could not control that - thats just the number of people who - who - who applied - and so they had 600 people apply in total - and - and the admission rate was - well - they admitted 300 out of the 600 - so the admission rate was half - so what you expect is that half the men were admitted - and half the men were denied admission - and and half the women were admitted and half were denied admission - and thats exactly what you have - so actually - this department perfectly hits the nail on the head in terms of the expectation in the breakdown of men and women being admitted - exactly half the men were admitted and exactly half the women - so you can make the case that theres no gender bias there~~ [\n",
    "[...] I. McLoughlin, \"Simpson's paradox explanation,\" GMIT, November 2018.\n",
    "] \n",
    "\n",
    "<img src=\"img/machismatics.png\" /> \n",
    "\n",
    "> ~~ likewise - the department of social warfare - as they call it - and they add - lets say they admitted 50 men and denied entry 100 men - they admitted 150 women - and denied entry to 300 women - so they accepted - they admitted three times the number of women than they did on men - so 75% of the admissions to that department were women - and again - and the admission rates and was - so the admission rate in this case was - well - they admitted 200 people - and in total - it seems 600 people applied - so you had the four numbers together to get the number that applied - and so 200 out of 600 is third - so they are admitting one third of the applicants - and it so happens that 150 men applied and they admitted 50 men - so they are hitting the nail on the head there again - they admitted - one third of the men who applied and likewise the they admitted 150 out of the 450 women who applied so they admitted one third of the women - so again - they are perfectly in line with the expectations of if theres no gender bias - they have admitted a third of the men who applied and a third of the women who applied and so you can make the case that they have not been biassed~~ [\n",
    "[...] I. McLoughlin, \"Simpson's paradox explanation,\" GMIT, November 2018.\n",
    "]\n",
    "\n",
    "<img src=\"img/fake.png\" />\n",
    "\n",
    "08:40 &#x1F6A7;"
   ]
  },
  {
   "cell_type": "markdown",
   "metadata": {},
   "source": [
    "&#x1F6A7; 08:40\n",
    "\n",
    "> ~now - heres the key to simpsons paradox - in this case - forget about the two departments - aggregate them - so 200 men were admitted to the first department and 50 to the second department - so in total - they admitted 250 as they have written down here - 100 women were admitted to the first deparment on 150 to the second so again - 250 women were admitted - so theres 50/50 admissions here - 250 men - 250 women~~ [\n",
    "[...] I. McLoughlin, \"Simpson's paradox explanation,\" GMIT, November 2018.\n",
    "]\n",
    "\n",
    "> ~~the first department rejected 200 men - and the second department rejected 100 men - so in total - 300 men were rejected - and likewise - first department rejected hundred women - and the second department rejected 300 of them and so 400 women were rejected in total - now - thats workout - how many men and women we expected them to admit and how many we expect them to reject~~ [\n",
    "[...] I. McLoughlin, \"Simpson's paradox explanation,\" GMIT, November 2018.\n",
    "]\n",
    "\n",
    "> ~~so whats the admission rate in this case so lets go back through here - and recalculate the admission rates based on these numbers~~ [\n",
    "[...] I. McLoughlin, \"Simpson's paradox explanation,\" GMIT, November 2018.\n",
    "]\n",
    "\n",
    "<img src=\"img/fakeObserved.png\" />\n",
    "\n",
    "09:50 &#x1F6A7;"
   ]
  },
  {
   "cell_type": "markdown",
   "metadata": {},
   "source": [
    "###### Fake Observed Data\n",
    "***"
   ]
  },
  {
   "cell_type": "markdown",
   "metadata": {},
   "source": [
    "&#x1F6A7; 09:50\n",
    "\n",
    "> ~~so rather than delete what i have done before - just overwrite it - so let me go into my notebook here - just push a subheading here - say actual data - down here - do data in the example - so lets calculate the admission rate in there to overall for their two fictionalised departments here - so they admitted 250 men - thats 250 men - and they admitted 250 women - giving them a total admissions of 500 - thats calculated how many people they admitted outside that applied overall - so obviously the 250 men and the 250 women who were admitted applied - so we have 250 plus to 250 - or 300 men were rejected and 400 women were rejected - so 300 plus 400 - so their admission rate was 0.4166686 - etc - so about 40%~~ [\n",
    "[...] I. McLoughlin, \"Simpson's paradox explanation,\" GMIT, November 2018.\n",
    "]\n",
    "\n",
    "11:10 &#x1F6A7;"
   ]
  },
  {
   "cell_type": "code",
   "execution_count": 7,
   "metadata": {},
   "outputs": [
    {
     "data": {
      "text/plain": [
       "0.4166666666666667"
      ]
     },
     "execution_count": 7,
     "metadata": {},
     "output_type": "execute_result"
    }
   ],
   "source": [
    "admission_rate=(250+250)/(250+250+300+400)\n",
    "admission_rate"
   ]
  },
  {
   "cell_type": "markdown",
   "metadata": {},
   "source": [
    "&#x1F6A7; 11:10 \n",
    "\n",
    "> ~~so next we will calculate the total men who applied and to their fictionalised departments - so for the two departments for the first department - and there were in total - and - sorry - electric scrowing - here - and for the first department - in total - there were 400 men - and for the second department - in total - there were 150 men - so that gives us 550 men in total - which we can also get by adding the 250 here to the 300 - so do it that way - 250 plus 300 - so total men - there were 550 men in total in their fictionalised example d- so for the two departments - the total number of men who applied was 550 - and then we could do total women - just copy and paste this year - total women - is 250 again - plus 400 - so 250 women were admitted to both departments - or sorry to either department - i suppose better ways and - and 400 are rejected from the departments - so in total - we had 650 women~~ [\n",
    "[...] I. McLoughlin, \"Simpson's paradox explanation,\" GMIT, November 2018.\n",
    "]\n",
    "\n",
    "12:20 &#x1F6A7;"
   ]
  },
  {
   "cell_type": "code",
   "execution_count": 8,
   "metadata": {},
   "outputs": [
    {
     "data": {
      "text/plain": [
       "550"
      ]
     },
     "execution_count": 8,
     "metadata": {},
     "output_type": "execute_result"
    }
   ],
   "source": [
    "total_men=250+300\n",
    "total_men"
   ]
  },
  {
   "cell_type": "code",
   "execution_count": 9,
   "metadata": {},
   "outputs": [
    {
     "data": {
      "text/plain": [
       "650"
      ]
     },
     "execution_count": 9,
     "metadata": {},
     "output_type": "execute_result"
    }
   ],
   "source": [
    "total_women=250+400\n",
    "total_women"
   ]
  },
  {
   "cell_type": "markdown",
   "metadata": {},
   "source": [
    "&#x1F6A7; 12:20\n",
    "\n",
    "> ~~so how many do we expect how many men do we expect to be admitted - well - thats gonna be the total number of men - multiplied by the admission rate - let me just have that displayed to the screen - oops - we expected 229.16167 i suppose - and men to be admitted - now - we are saying that there were 250 men admitted - and so we are - we have admitted 20 more men than we expected - and now lets calculate the number of women that we expected - to be admitted - and that was 270 - so we expect 270 women to be admitted - we actually admitted 250 - so now we have a discrepancy - again - of about 20/21 - women~~ [\n",
    "[...] I. McLoughlin, \"Simpson's paradox explanation,\" GMIT, November 2018.\n",
    "]\n",
    "\n",
    "13:20 &#x1F6A7;"
   ]
  },
  {
   "cell_type": "code",
   "execution_count": 10,
   "metadata": {},
   "outputs": [
    {
     "data": {
      "text/plain": [
       "229.16666666666669"
      ]
     },
     "execution_count": 10,
     "metadata": {},
     "output_type": "execute_result"
    }
   ],
   "source": [
    "expect_men_admitted=total_men*admission_rate\n",
    "expect_men_admitted"
   ]
  },
  {
   "cell_type": "code",
   "execution_count": 11,
   "metadata": {},
   "outputs": [
    {
     "data": {
      "text/plain": [
       "270.83333333333337"
      ]
     },
     "execution_count": 11,
     "metadata": {},
     "output_type": "execute_result"
    }
   ],
   "source": [
    "expect_women_admitted=total_women*admission_rate\n",
    "expect_women_admitted"
   ]
  },
  {
   "cell_type": "markdown",
   "metadata": {},
   "source": [
    "&#x1F6A7; 13:20 \n",
    "\n",
    "> ~~so what this is telling you is that even though in each individual department - you can make the case that the admission rate was the same for men and women - well - you are not making the case - but it actually was right - in the first department - half the men were admitted - who applied - and in the first department - half the women were admitted to applied in the second department - one third of the men who applied are admitted - and likewise - one third of the women who applied word message - so within each department - everything was seemed seemed fairly well balanced - you know - it was the number of admissions was weighted by the number of applicants for each gender - however - overall - the the - when you combine the two departments - it looks like theres a bias towards admitting men - so 250 men were admitted - over 550 in total apply - and 250 - women were admitted - out of 650 applying - so more women applied - but the exact same number of men and women were admitted between the two departments~~ [\n",
    "[...] I. McLoughlin, \"Simpson's paradox explanation,\" GMIT, November 2018.\n",
    "]\n",
    "\n",
    "<img src=\"img/fake.png\" />\n",
    "\n",
    "14:30 &#x1F6A7;"
   ]
  },
  {
   "cell_type": "markdown",
   "metadata": {},
   "source": [
    "&#x1F6A7; 14:30\n",
    "\n",
    "> ~~so whats the explanation for this how does this phenomenon arise why does at the aggregate level - why does it look like theres gender bias well - its simply because more men applied to the department that has a higher admission rate than women - you see - the real thing here is that more proportionately more men are applying for the department thats easier to get into - which is the first department - the first department has an admission rate of 50% - whereas the second department has an admission rate of only 33% - one third - so its easier to get into the first department and more men applied to that department - and - you know - only 150 men applied to the second department - whereas 450 women applied in the first round - 400 men applied and only 100 women applied - so the men are applying for the easier to get into department and what the result more men get in - thats thats the overall explanation - now - there could be other biases - and like - this dataset does not tell you anything about why - and men and women were applying for the different departments - maybe theres some reason that and maybe theres some bias in - in the way - berkeley is - say - advertising - admission to each department in terms of gender - maybe they are using stereotype ads or something like that - and thats just in there - just giving and playing devils advocate and saying - well - look this data does not necessarily outright say that theres no bias going on here - all we are saying is that theres no evidence of bias - so thats simpsons paradox for this dataset - so simpsons paradox is telling us that an effect that we see - and as an aggregate level disappears - when we dig down to a more granular level - when we use the other variables that we have - such as the name of the department that was applied to the effect is disappearing - so if we were seeing a dataset where you take the full dataset - you see an effect - but if you break the dataset down into its different groups - whatever that might mean - in this case - it means the different departments will then the effect disappears - or indeed - and maybe reversed - so we have got to be very careful when we are analysing data - and people think these datasets are very black and white - and the statistics do not lie - well - statistics are just calculations that you are making - and - and its up to you as a human then to do what you please with those calculations - you know - you - you are using those calculations to try and make a case - and the calculations are providing evidence for the case that you are trying to make - hopefully - just evidence that - you know - statistics is not black and white - and in that sense - so thats just the example from the berkeley dataset from 1973 in this paper - sex bias and graduate admissions data from berkeley - and thats just an explanation of the effect as they have given us~~ [\n",
    "[...] I. McLoughlin, \"Simpson's paradox explanation,\" GMIT, November 2018.\n",
    "]\n",
    "\n",
    "18:05 &#x1F6A7;"
   ]
  },
  {
   "cell_type": "markdown",
   "metadata": {},
   "source": [
    "***\n",
    "# END"
   ]
  }
 ],
 "metadata": {
  "kernelspec": {
   "display_name": "Python 3",
   "language": "python",
   "name": "python3"
  },
  "language_info": {
   "codemirror_mode": {
    "name": "ipython",
    "version": 3
   },
   "file_extension": ".py",
   "mimetype": "text/x-python",
   "name": "python",
   "nbconvert_exporter": "python",
   "pygments_lexer": "ipython3",
   "version": "3.8.3"
  }
 },
 "nbformat": 4,
 "nbformat_minor": 2
}
